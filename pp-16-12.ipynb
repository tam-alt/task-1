{
  "cells": [
    {
      "cell_type": "code",
      "execution_count": null,
      "metadata": {
        "id": "aX1LWb-S84cD"
      },
      "outputs": [],
      "source": [
        "import pandas as pd\n",
        "import numpy as np\n",
        "import matplotlib.pyplot as plt\n",
        "import re\n",
        "import os\n",
        "\n",
        "# 1. Data Initialization: Create a CSV file to store initial student data.\n",
        "data = {\n",
        "    'Student ID': ['ST-001', 'ST-002', 'ST-003'],\n",
        "    'Name': ['Alice', 'Bob', 'Charlie'],\n",
        "    'Math': [85, 90, 75],\n",
        "    'English': [88, 70, 92],\n",
        "    'Science': [79, 85, 67],\n",
        "    'Marks': [0, 0, 0],  # Placeholder for total marks\n",
        "    'Grade': ['A', 'A', 'B']  # Placeholder for grade\n",
        "}\n",
        "\n",
        "# Convert to DataFrame\n",
        "df = pd.DataFrame(data)\n",
        "\n",
        "# Save to CSV file (initial file)\n",
        "if not os.path.exists('students_data.csv'):\n",
        "    df.to_csv('students_data.csv', index=False)\n",
        "else:\n",
        "    df = pd.read_csv('students_data.csv')"
      ]
    },
    {
      "cell_type": "code",
      "execution_count": null,
      "metadata": {
        "id": "_VUSNJgT88tC"
      },
      "outputs": [],
      "source": [
        "# 2. Student Record Management Functions\n",
        "def add_student(student_id, name, marks):\n",
        "    global df\n",
        "    new_student = pd.DataFrame({\n",
        "        'Student ID': [student_id],\n",
        "        'Name': [name],\n",
        "        'Math': [marks[0]],\n",
        "        'English': [marks[1]],\n",
        "        'Science': [marks[2]],\n",
        "        'Marks': [sum(marks)],\n",
        "        'Grade': [calculate_grade(sum(marks))]\n",
        "    })\n",
        "    df = pd.concat([df, new_student], ignore_index=True)\n",
        "    df.to_csv('students_data.csv', index=False)\n",
        "\n",
        "def update_student(student_id, marks):\n",
        "    global df\n",
        "    student = df[df['Student ID'] == student_id]\n",
        "    if not student.empty:\n",
        "        df.loc[df['Student ID'] == student_id, ['Math', 'English', 'Science']] = marks\n",
        "        df.loc[df['Student ID'] == student_id, 'Marks'] = sum(marks)\n",
        "        df.loc[df['Student ID'] == student_id, 'Grade'] = calculate_grade(sum(marks))\n",
        "        df.to_csv('students_data.csv', index=False)\n",
        "    else:\n",
        "        print(\"Student ID not found.\")\n",
        "\n",
        "def delete_student(student_id):\n",
        "    global df\n",
        "    df = df[df['Student ID'] != student_id]\n",
        "    df.to_csv('students_data.csv', index=False)"
      ]
    },
    {
      "cell_type": "code",
      "execution_count": null,
      "metadata": {
        "id": "ETQ3g1Id9EtS"
      },
      "outputs": [],
      "source": [
        "# 3. Grade Calculation\n",
        "def calculate_grade(marks):\n",
        "    if marks >= 90:\n",
        "        return 'A'\n",
        "    elif marks >= 80:\n",
        "        return 'B'\n",
        "    elif marks >= 70:\n",
        "        return 'C'\n",
        "    else:\n",
        "        return 'F'"
      ]
    },
    {
      "cell_type": "code",
      "execution_count": null,
      "metadata": {
        "id": "QAZ4N-A39H3y"
      },
      "outputs": [],
      "source": [
        "# 4. Class Performance Analysis\n",
        "def class_performance_analysis():\n",
        "    global df\n",
        "    avg_marks = df[['Math', 'English', 'Science']].mean()\n",
        "    print(f\"Average Marks Per Subject: \\n{avg_marks}\")\n",
        "\n",
        "    top_scorer = df[['Student ID', 'Name', 'Math', 'English', 'Science']].max()\n",
        "    lowest_scorer = df[['Student ID', 'Name', 'Math', 'English', 'Science']].min()\n",
        "\n",
        "    print(f\"\\nTop Scorer:\\n{top_scorer}\")\n",
        "    print(f\"\\nLowest Scorer:\\n{lowest_scorer}\")\n",
        "\n",
        "    pass_percentage = len(df[df['Grade'] != 'F']) / len(df) * 100\n",
        "    print(f\"\\nPass Percentage: {pass_percentage}%\")"
      ]
    },
    {
      "cell_type": "code",
      "execution_count": null,
      "metadata": {
        "id": "K_e8SF0z9LbB"
      },
      "outputs": [],
      "source": [
        "# 5. Visualizing Data\n",
        "def plot_data():\n",
        "    global df\n",
        "    # Bar chart of average marks per subject\n",
        "    avg_marks = df[['Math', 'English', 'Science']].mean()\n",
        "    avg_marks.plot(kind='bar', title='Average Marks Per Subject')\n",
        "    plt.ylabel('Average Marks')\n",
        "    plt.show()\n",
        "\n",
        "    # Pie chart for grade distribution\n",
        "    grade_dist = df['Grade'].value_counts()\n",
        "    grade_dist.plot(kind='pie', autopct='%1.1f%%', title='Grade Distribution')\n",
        "    plt.show()\n",
        "\n",
        "    # Line graph of student marks in Math (for example)\n",
        "    df.plot(x='Name', y='Math', kind='line', marker='o', title='Student Marks in Math')\n",
        "    plt.ylabel('Marks')\n",
        "    plt.show()\n"
      ]
    },
    {
      "cell_type": "code",
      "execution_count": null,
      "metadata": {
        "id": "kZLROmrJ9Oqy"
      },
      "outputs": [],
      "source": [
        "# 6. Searching and Filtering\n",
        "def search_student(student_id=None, name=None):\n",
        "    global df\n",
        "    if student_id:\n",
        "        student = df[df['Student ID'] == student_id]\n",
        "        print(student)\n",
        "    elif name:\n",
        "        student = df[df['Name'] == name]\n",
        "        print(student)\n",
        "\n",
        "def filter_by_grade(grade):\n",
        "    global df\n",
        "    filtered = df[df['Grade'] == grade]\n",
        "    print(filtered)\n",
        "\n",
        "def failed_students():\n",
        "    global df\n",
        "    failed = df[df[['Math', 'English', 'Science']].min(axis=1) < 70]\n",
        "    print(failed)"
      ]
    },
    {
      "cell_type": "code",
      "execution_count": null,
      "metadata": {
        "id": "OWjLFGo-9RgC"
      },
      "outputs": [],
      "source": [
        "# 7. Advanced Features (File Handling, Exception Handling, RegEx)\n",
        "def validate_student_id(student_id):\n",
        "    pattern = r\"^ST-\\d{3}$\"\n",
        "    return bool(re.match(pattern, student_id))\n"
      ]
    },
    {
      "cell_type": "code",
      "execution_count": null,
      "metadata": {
        "colab": {
          "background_save": true,
          "base_uri": "https://localhost:8080/"
        },
        "id": "_h9WsD3t9WEi",
        "outputId": "ac7e373e-1909-4b8a-dcb3-6c4d007613f7"
      },
      "outputs": [
        {
          "output_type": "stream",
          "name": "stdout",
          "text": [
            "\n",
            "Student Record Management Menu:\n",
            "1. Add a Student\n",
            "2. Update Student Marks\n",
            "3. Delete Student Record\n",
            "4. View Class Performance\n",
            "5. Visualize Data\n",
            "6. Search Student\n",
            "7. Filter Students by Grade\n",
            "8. Show Students Who Failed\n",
            "9. Exit\n"
          ]
        }
      ],
      "source": [
        "# 8. User Interaction (Menu-driven program)\n",
        "def menu():\n",
        "    while True:\n",
        "        print(\"\\nStudent Record Management Menu:\")\n",
        "        print(\"1. Add a Student\")\n",
        "        print(\"2. Update Student Marks\")\n",
        "        print(\"3. Delete Student Record\")\n",
        "        print(\"4. View Class Performance\")\n",
        "        print(\"5. Visualize Data\")\n",
        "        print(\"6. Search Student\")\n",
        "        print(\"7. Filter Students by Grade\")\n",
        "        print(\"8. Show Students Who Failed\")\n",
        "        print(\"9. Exit\")\n",
        "\n",
        "        choice = input(\"Enter your choice (1-9): \")\n",
        "\n",
        "        if choice == '1':\n",
        "            student_id = input(\"Enter Student ID (e.g., ST-004): \")\n",
        "            name = input(\"Enter Student Name: \")\n",
        "            marks = list(map(int, input(\"Enter marks for Math, English, Science (comma-separated): \").split(',')))\n",
        "            if validate_student_id(student_id):\n",
        "                add_student(student_id, name, marks)\n",
        "            else:\n",
        "                print(\"Invalid Student ID format. Use 'ST-xxx'.\")\n",
        "        elif choice == '2':\n",
        "            student_id = input(\"Enter Student ID to Update: \")\n",
        "            marks = list(map(int, input(\"Enter new marks for Math, English, Science (comma-separated): \").split(',')))\n",
        "            update_student(student_id, marks)\n",
        "        elif choice == '3':\n",
        "            student_id = input(\"Enter Student ID to Delete: \")\n",
        "            delete_student(student_id)\n",
        "        elif choice == '4':\n",
        "            class_performance_analysis()\n",
        "        elif choice == '5':\n",
        "            plot_data()\n",
        "        elif choice == '6':\n",
        "            student_id = input(\"Enter Student ID to Search (leave blank to search by name): \")\n",
        "            name = None\n",
        "            if not student_id:\n",
        "                name = input(\"Enter Student Name to Search: \")\n",
        "            search_student(student_id, name)\n",
        "        elif choice == '7':\n",
        "            grade = input(\"Enter Grade to Filter by (A, B, C, F): \")\n",
        "            filter_by_grade(grade)\n",
        "        elif choice == '8':\n",
        "            failed_students()\n",
        "        elif choice == '9':\n",
        "            print(\"Exiting...\")\n",
        "            break\n",
        "        else:\n",
        "            print(\"Invalid choice. Please try again.\")\n",
        "\n",
        "# Run the menu-driven program\n",
        "menu()"
      ]
    }
  ],
  "metadata": {
    "colab": {
      "provenance": []
    },
    "kernelspec": {
      "display_name": "Python 3",
      "name": "python3"
    },
    "language_info": {
      "name": "python"
    }
  },
  "nbformat": 4,
  "nbformat_minor": 0
}